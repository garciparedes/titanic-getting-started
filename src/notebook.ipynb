{
  "cells": [
    {
      "metadata": {
        "_uuid": "f75f4671a659f47551cb5cc8b635cd7bc52e80c6",
        "trusted": false,
        "_cell_guid": "b2db72d1-431d-441e-8f2b-eabd42407a3b"
      },
      "cell_type": "code",
      "source": "input.dir <- './../input/'",
      "execution_count": null,
      "outputs": []
    },
    {
      "metadata": {
        "_uuid": "68b1a1015ab38b8b21e9c484679c052b41c95597",
        "trusted": false,
        "_cell_guid": "a4dd2105-46a1-494c-a7c3-b887340c6272"
      },
      "cell_type": "code",
      "source": "library(MASS)",
      "execution_count": null,
      "outputs": []
    },
    {
      "metadata": {
        "_uuid": "c8f0a116eba3f9fd471ab3189c180dbe013c7bbb",
        "trusted": false,
        "_cell_guid": "d59382a0-f337-4782-b076-4d13e162b325"
      },
      "cell_type": "code",
      "source": "removedColumnsIndex <- function(data, columIds) {\n    setdiff(colnames(data), columIds)\n}",
      "execution_count": null,
      "outputs": []
    },
    {
      "metadata": {
        "_uuid": "6955d115480caf29cc2bcc375aa98571328e6eae",
        "trusted": false,
        "_cell_guid": "3396f597-d851-45f0-8506-fc6087d38968"
      },
      "cell_type": "code",
      "source": "columnsToNumeric <- function(data, columIds) {\n    for (i in columIds) {\n        data[,i] <- as.numeric(data[,i])\n    }\n    return(data)\n}",
      "execution_count": null,
      "outputs": []
    },
    {
      "metadata": {
        "_uuid": "730ce1c1a89f645c169859ec8be3127252cf786b",
        "trusted": false,
        "_cell_guid": "b6e7b35f-f519-46ee-807c-082c7685e450"
      },
      "cell_type": "code",
      "source": "preprocessData <- function(data) {\n    columns.to.remove <- c('Name', 'Cabin', 'Ticket', 'Age')\n    data.cleaned <- data[,removedColumnsIndex(data, columns.to.remove)]\n\n    columns.to.numeric <- c('Sex', 'Embarked')\n    data.cleaned <- columnsToNumeric(data.cleaned, columns.to.numeric)\n    \n    columns.to.scale <- setdiff(colnames(data.cleaned), c('PassengerId', 'Survived'))\n    data.cleaned[,columns.to.scale] <- scale(data.cleaned[,columns.to.scale])\n    data.cleaned[is.na(data.cleaned)] <- 0\n    \n    \n    return(data.cleaned)\n}",
      "execution_count": null,
      "outputs": []
    },
    {
      "metadata": {
        "_uuid": "c39731258bef64da9deb5382b3b760bbd2a4b934",
        "trusted": false,
        "_cell_guid": "baf3f0ab-60de-4d69-93fd-f6a2ae498a2e"
      },
      "cell_type": "code",
      "source": "predictDataDiscriminant <- function(data, model) {\n    \n    data.prediction <- cbind(data[,'PassengerId'] , as.numeric(predict(model, data)$class) - 1)\n    colnames(data.prediction) <- c('PassengerId', 'Survived')\n\n    return(data.prediction)\n}",
      "execution_count": null,
      "outputs": []
    },
    {
      "metadata": {
        "_uuid": "117d1615027eede79bc7007114e4edd7e8627724",
        "trusted": false,
        "_cell_guid": "82eb211d-2425-4a9f-b8b5-3af458929985"
      },
      "cell_type": "code",
      "source": "predictDataRegression <- function(data, model) {\n    \n    data.prediction <- cbind(data[,'PassengerId'] , round(predict(model, data, type='response')))\n    colnames(data.prediction) <- c('PassengerId', 'Survived')\n    \n    return(data.prediction)\n}",
      "execution_count": null,
      "outputs": []
    },
    {
      "metadata": {
        "_uuid": "357806f81717d2c22d8ac3343a1874d0f929ffbe",
        "trusted": false,
        "_cell_guid": "6918599c-cb21-4ee8-88a3-79df60b06ef0"
      },
      "cell_type": "code",
      "source": "plotWithPCA <- function(data) {\n    data.pca <- princomp(data[,removedColumnsIndex(data, 'Survived')])\n    plot(data.pca$scores[,1:2], col = as.numeric(data[,'Survived'])+2)\n}",
      "execution_count": null,
      "outputs": []
    },
    {
      "metadata": {
        "_kg_hide-output": false,
        "_uuid": "f2e5f07442ba007040918ace20628fc2d715cded",
        "trusted": false,
        "_cell_guid": "2cc6826d-ed75-4376-8beb-791765616172"
      },
      "cell_type": "code",
      "source": "data.train <- read.csv(paste(input.dir, 'train.csv', sep =\"\"))\ndata.test <- read.csv(paste(input.dir, 'test.csv', sep =\"\"))",
      "execution_count": null,
      "outputs": []
    },
    {
      "metadata": {
        "_uuid": "55171688fe7d5c22b6beea10f4eba55228a77a30",
        "trusted": false,
        "_cell_guid": "e59f40ae-a940-4c78-ab3f-5908273a006a"
      },
      "cell_type": "code",
      "source": "head(data.train)",
      "execution_count": null,
      "outputs": []
    },
    {
      "metadata": {
        "scrolled": true,
        "_uuid": "7e42ef8df61209b2c2d6a13584c5def87de32da8",
        "trusted": false,
        "_cell_guid": "3d4ea750-1db8-4344-b75e-e13e9156c476"
      },
      "cell_type": "code",
      "source": "data.train.use <- preprocessData(data.train)\nplotWithPCA(data.train.use)\nhead(data.train.use)",
      "execution_count": null,
      "outputs": []
    },
    {
      "metadata": {
        "_uuid": "9f8bc82cb936653ce823c69422488293c3dc436a",
        "trusted": false,
        "_cell_guid": "0dfca217-3d86-4347-9b57-8dce27f439dc"
      },
      "cell_type": "code",
      "source": "data.test.use <- preprocessData(data.test)\nhead(data.test.use)",
      "execution_count": null,
      "outputs": []
    },
    {
      "metadata": {
        "_uuid": "3038ce2e39db9e85d8d129a5301997db6a55b2ac",
        "trusted": false,
        "_cell_guid": "eaff714d-8cc5-47ff-8789-b793eb8889a3"
      },
      "cell_type": "code",
      "source": "data.classifier.formula <- as.formula('Survived ~ .')\n",
      "execution_count": null,
      "outputs": []
    },
    {
      "metadata": {
        "_uuid": "6a637f4237f40872517b5615db94c7b1b60f7767",
        "trusted": false,
        "_cell_guid": "005f61f1-4ee9-41ae-a5c7-cf133865dd8f"
      },
      "cell_type": "code",
      "source": "data.classifier.lda <- lda(data.classifier.formula, data.train.use)\ndata.test.prediction.lda <- predictDataDiscriminant(data.test.use, data.classifier.lda)\n\nhead(data.test.prediction.lda)\n\nwrite.csv(data.test.prediction.lda, file = \"prediction-lda.csv\", row.names = FALSE)",
      "execution_count": null,
      "outputs": []
    },
    {
      "metadata": {
        "_uuid": "28e0d7706767e8720ed97c9516eb45154c95e7dd",
        "trusted": false,
        "_cell_guid": "c3741a1c-a4a9-4aef-884f-d0e888a6e8fb"
      },
      "cell_type": "code",
      "source": "data.classifier.qda <- qda(data.classifier.formula, data.train.use)\n\ndata.test.prediction.qda <- predictDataDiscriminant(data.test.use, data.classifier.qda)\nhead(data.test.prediction.qda)\n\nwrite.csv(data.test.prediction.qda, file = \"prediction-qda.csv\", row.names = FALSE)",
      "execution_count": null,
      "outputs": []
    },
    {
      "metadata": {
        "_uuid": "7593ff63051e7e6012e7515b9fd0f04dfa50d144",
        "trusted": false,
        "_cell_guid": "d2c8ce96-a314-42bc-a80e-479da4979f8e"
      },
      "cell_type": "code",
      "source": "data.classifier.logistic <- glm(data.classifier.formula, data.train.use, family = binomial)\n\ndata.test.prediction.logistic <- predictDataRegression(data.test.use, data.classifier.logistic)[,c('PassengerId', 'Survived')]\nhead(data.test.prediction.logistic)\n\nwrite.csv(data.test.prediction.logistic, file = \"prediction-logistic.csv\", row.names = FALSE)",
      "execution_count": null,
      "outputs": []
    }
  ],
  "metadata": {
    "kernelspec": {
      "display_name": "R",
      "language": "R",
      "name": "ir"
    },
    "language_info": {
      "mimetype": "text/x-r-source",
      "version": "3.4.2",
      "name": "R",
      "pygments_lexer": "r",
      "file_extension": ".r",
      "codemirror_mode": "r"
    }
  },
  "nbformat": 4,
  "nbformat_minor": 1
}